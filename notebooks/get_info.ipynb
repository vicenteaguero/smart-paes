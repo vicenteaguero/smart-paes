{
 "cells": [
  {
   "cell_type": "code",
   "execution_count": 1,
   "metadata": {},
   "outputs": [],
   "source": [
    "from smartpaes.scraping.degree_scraper import get_degrees"
   ]
  },
  {
   "cell_type": "code",
   "execution_count": 2,
   "metadata": {},
   "outputs": [],
   "source": [
    "UPDATE = False"
   ]
  },
  {
   "cell_type": "markdown",
   "metadata": {},
   "source": [
    "# UC: Pontificia Universidad Católica de Chile"
   ]
  },
  {
   "cell_type": "code",
   "execution_count": 3,
   "metadata": {},
   "outputs": [
    {
     "data": {
      "text/plain": [
       "68"
      ]
     },
     "execution_count": 3,
     "metadata": {},
     "output_type": "execute_result"
    }
   ],
   "source": [
    "url = 'https://admision.uc.cl/carreras/'\n",
    "to_find = [('div', 'row', 2), ('div', 'uc-card_body', None)]\n",
    "a_info = ('a', 'color-black', 0)\n",
    "safe_tag = ('div', 'container-offset', 0)\n",
    "\n",
    "pages = get_degrees(url, to_find, a_info, safe_tag, update=UPDATE)\n",
    "len(pages)"
   ]
  },
  {
   "cell_type": "markdown",
   "metadata": {},
   "source": [
    "# UChile: Universidad de Chile"
   ]
  },
  {
   "cell_type": "code",
   "execution_count": 4,
   "metadata": {},
   "outputs": [
    {
     "data": {
      "text/plain": [
       "61"
      ]
     },
     "execution_count": 4,
     "metadata": {},
     "output_type": "execute_result"
    }
   ],
   "source": [
    "url = 'https://portaluchile.uchile.cl/admision-y-matriculas/admision-regular-pregrado/oferta-de-carreras'\n",
    "to_find = [('table', None, 0), ('tbody', None, 0), ('td', 'celdas3', None)]\n",
    "a_info = ('a', None, 0)\n",
    "safe_tag = ('div', 'content__main', 0)\n",
    "\n",
    "pages = get_degrees(url, to_find, a_info, safe_tag, update=UPDATE)\n",
    "len(pages)"
   ]
  },
  {
   "cell_type": "markdown",
   "metadata": {},
   "source": [
    "# USM: Universidad Técnica Federico Santa María"
   ]
  },
  {
   "cell_type": "code",
   "execution_count": 5,
   "metadata": {},
   "outputs": [
    {
     "data": {
      "text/plain": [
       "51"
      ]
     },
     "execution_count": 5,
     "metadata": {},
     "output_type": "execute_result"
    }
   ],
   "source": [
    "url = 'https://usm.cl/admision/carreras/'\n",
    "to_find = [('div', '#carreras', 0), ('div', 'card', None)]\n",
    "a_info = ('a', 'card-link__usm', 0)\n",
    "safe_tag = ('div', '#page', 0)\n",
    "\n",
    "pages = get_degrees(url, to_find, a_info, safe_tag, update=UPDATE)\n",
    "len(pages)"
   ]
  },
  {
   "cell_type": "markdown",
   "metadata": {},
   "source": [
    "# UAI: Universidad Adolfo Ibáñez"
   ]
  },
  {
   "cell_type": "code",
   "execution_count": 6,
   "metadata": {},
   "outputs": [
    {
     "data": {
      "text/plain": [
       "20"
      ]
     },
     "execution_count": 6,
     "metadata": {},
     "output_type": "execute_result"
    }
   ],
   "source": [
    "url = 'https://admision.uai.cl/carreras/'\n",
    "to_find = [('div', 'cards', 0), ('a', 'card', None)]\n",
    "a_info = None\n",
    "safe_tag = ('div', 'page-container', 0)\n",
    "\n",
    "pages = get_degrees(url, to_find, a_info, safe_tag, update=UPDATE)\n",
    "len(pages)"
   ]
  }
 ],
 "metadata": {
  "kernelspec": {
   "display_name": ".venv",
   "language": "python",
   "name": "python3"
  },
  "language_info": {
   "codemirror_mode": {
    "name": "ipython",
    "version": 3
   },
   "file_extension": ".py",
   "mimetype": "text/x-python",
   "name": "python",
   "nbconvert_exporter": "python",
   "pygments_lexer": "ipython3",
   "version": "3.12.3"
  }
 },
 "nbformat": 4,
 "nbformat_minor": 2
}
